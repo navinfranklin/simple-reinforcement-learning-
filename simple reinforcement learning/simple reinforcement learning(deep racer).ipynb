{
 "cells": [
  {
   "cell_type": "markdown",
   "metadata": {},
   "source": [
    "# simple reinfocrement learning "
   ]
  },
  {
   "cell_type": "markdown",
   "metadata": {},
   "source": [
    "basic understanding of the reinforment learning concept we need to understand about the agent class and the environment class.\n",
    "The agent Class: A thing, or person, that tries to gain rewards by interaction. In practice, the agent is a piece of code that implements some policy\n",
    "The environment Class: It's a model of the world that is external to the agent.It provides observations and rewards to agent."
   ]
  },
  {
   "cell_type": "markdown",
   "metadata": {},
   "source": [
    "init constructor is called to set the number of episodes for the event get_observation() method is supposed to return the current environment's observation to the agent,"
   ]
  },
  {
   "cell_type": "markdown",
   "metadata": {},
   "source": [
    "Other methods are mostly self explanatory, get_actions returns 0 or 1 corresponding to two available actions.is_done checks the end"
   ]
  },
  {
   "cell_type": "markdown",
   "metadata": {},
   "source": [
    "the agent's Class simple and includes only two methods: the constructor and the method that performs one step in the environment\n",
    "Intitially the total reward collected is set to zero by the constructor.Observe the environment,Make a decision about the action to take based on the observations,Submit the action to the environment,Get the reward for the current step"
   ]
  },
  {
   "cell_type": "markdown",
   "metadata": {},
   "source": [
    "main idea of simpple reinforcement learning is from AWS deepracer.\n",
    "reference websites:learning the basics of reinforment learning\n",
    "    https://aws.amazon.com/deepracer/"
   ]
  },
  {
   "cell_type": "code",
   "execution_count": 18,
   "metadata": {},
   "outputs": [],
   "source": [
    "import random\n",
    "from typing import List\n",
    "\n",
    "class SampleEnvironment:\n",
    "    def __init__(self):\n",
    "        self.steps_left = 20\n",
    "\n",
    "    def get_observation(self) -> List[float]:\n",
    "        return [0.0, 0.0, 0.0]\n",
    "\n",
    "    def get_actions(self) -> List[int]:\n",
    "        return [0, 1]\n",
    "\n",
    "    def is_done(self) -> bool:\n",
    "        return self.steps_left == 0\n",
    "\n",
    "    def action(self, action: int) -> float:\n",
    "        if self.is_done():\n",
    "            raise Exception(\"Game is over\")\n",
    "        self.steps_left -= 1\n",
    "        return random.random()"
   ]
  },
  {
   "cell_type": "code",
   "execution_count": 19,
   "metadata": {},
   "outputs": [
    {
     "data": {
      "text/plain": [
       "1"
      ]
     },
     "execution_count": 19,
     "metadata": {},
     "output_type": "execute_result"
    }
   ],
   "source": [
    "random.choice([0,1])"
   ]
  },
  {
   "cell_type": "code",
   "execution_count": 20,
   "metadata": {},
   "outputs": [],
   "source": [
    "class Agent:\n",
    "    def __init__(self):\n",
    "        self.total_reward = 0.0\n",
    "\n",
    "    def step(self, env: SampleEnvironment):\n",
    "        current_obs = env.get_observation()\n",
    "        print(\"Observation {}\".format(current_obs))\n",
    "        actions = env.get_actions()\n",
    "        print(actions)\n",
    "        reward = env.action(random.choice(actions))\n",
    "        self.total_reward += reward\n",
    "        print(\"Total Reward {}\".format(self.total_reward))"
   ]
  },
  {
   "cell_type": "code",
   "execution_count": 21,
   "metadata": {},
   "outputs": [
    {
     "name": "stdout",
     "output_type": "stream",
     "text": [
      "Steps 1\n",
      "Observation [0.0, 0.0, 0.0]\n",
      "[0, 1]\n",
      "Total Reward 0.9173284471723517\n",
      "Steps 2\n",
      "Observation [0.0, 0.0, 0.0]\n",
      "[0, 1]\n",
      "Total Reward 1.0352231514611894\n",
      "Steps 3\n",
      "Observation [0.0, 0.0, 0.0]\n",
      "[0, 1]\n",
      "Total Reward 1.7647349854543701\n",
      "Steps 4\n",
      "Observation [0.0, 0.0, 0.0]\n",
      "[0, 1]\n",
      "Total Reward 2.1778880558387526\n",
      "Steps 5\n",
      "Observation [0.0, 0.0, 0.0]\n",
      "[0, 1]\n",
      "Total Reward 2.9873181917585736\n",
      "Steps 6\n",
      "Observation [0.0, 0.0, 0.0]\n",
      "[0, 1]\n",
      "Total Reward 3.5770147078675314\n",
      "Steps 7\n",
      "Observation [0.0, 0.0, 0.0]\n",
      "[0, 1]\n",
      "Total Reward 4.480520560098704\n",
      "Steps 8\n",
      "Observation [0.0, 0.0, 0.0]\n",
      "[0, 1]\n",
      "Total Reward 4.727031955248261\n",
      "Steps 9\n",
      "Observation [0.0, 0.0, 0.0]\n",
      "[0, 1]\n",
      "Total Reward 5.525226026711037\n",
      "Steps 10\n",
      "Observation [0.0, 0.0, 0.0]\n",
      "[0, 1]\n",
      "Total Reward 5.619557362443915\n",
      "Steps 11\n",
      "Observation [0.0, 0.0, 0.0]\n",
      "[0, 1]\n",
      "Total Reward 5.835679929937\n",
      "Steps 12\n",
      "Observation [0.0, 0.0, 0.0]\n",
      "[0, 1]\n",
      "Total Reward 6.280699457267312\n",
      "Steps 13\n",
      "Observation [0.0, 0.0, 0.0]\n",
      "[0, 1]\n",
      "Total Reward 6.841579799823847\n",
      "Steps 14\n",
      "Observation [0.0, 0.0, 0.0]\n",
      "[0, 1]\n",
      "Total Reward 7.460257638641747\n",
      "Steps 15\n",
      "Observation [0.0, 0.0, 0.0]\n",
      "[0, 1]\n",
      "Total Reward 8.160351605650371\n",
      "Steps 16\n",
      "Observation [0.0, 0.0, 0.0]\n",
      "[0, 1]\n",
      "Total Reward 8.340300140264295\n",
      "Steps 17\n",
      "Observation [0.0, 0.0, 0.0]\n",
      "[0, 1]\n",
      "Total Reward 9.041453656284114\n",
      "Steps 18\n",
      "Observation [0.0, 0.0, 0.0]\n",
      "[0, 1]\n",
      "Total Reward 9.692144325837639\n",
      "Steps 19\n",
      "Observation [0.0, 0.0, 0.0]\n",
      "[0, 1]\n",
      "Total Reward 10.393824805561625\n",
      "Steps 20\n",
      "Observation [0.0, 0.0, 0.0]\n",
      "[0, 1]\n",
      "Total Reward 10.756586177153883\n",
      "Total reward got: 10.7566\n"
     ]
    }
   ],
   "source": [
    "if __name__ == \"__main__\":\n",
    "    env = SampleEnvironment()\n",
    "    agent = Agent()\n",
    "    i=0\n",
    "\n",
    "    while not env.is_done():\n",
    "        i=i+1\n",
    "        print(\"Steps {}\".format(i))\n",
    "        agent.step(env)\n",
    "\n",
    "    print(\"Total reward got: %.4f\" % agent.total_reward)"
   ]
  },
  {
   "cell_type": "code",
   "execution_count": null,
   "metadata": {},
   "outputs": [],
   "source": []
  }
 ],
 "metadata": {
  "kernelspec": {
   "display_name": "Python 3",
   "language": "python",
   "name": "python3"
  },
  "language_info": {
   "codemirror_mode": {
    "name": "ipython",
    "version": 3
   },
   "file_extension": ".py",
   "mimetype": "text/x-python",
   "name": "python",
   "nbconvert_exporter": "python",
   "pygments_lexer": "ipython3",
   "version": "3.7.7"
  }
 },
 "nbformat": 4,
 "nbformat_minor": 4
}
